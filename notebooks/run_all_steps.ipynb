{
 "cells": [
  {
   "cell_type": "code",
   "execution_count": 20,
   "id": "11899e45",
   "metadata": {},
   "outputs": [],
   "source": [
    "import glob\n",
    "import os\n",
    "import re\n",
    "import subprocess\n",
    "import shutil\n",
    "import yaml\n",
    "from pathlib import Path"
   ]
  },
  {
   "cell_type": "code",
   "execution_count": 5,
   "id": "10faba77",
   "metadata": {},
   "outputs": [
    {
     "data": {
      "text/plain": [
       "{'id': 'C3L-00677',\n",
       " 'rna-seq': {'tumor': {'R1': {'filepath': '/data/pecgs/test_sample/C3L-00677/rna-seq/170906_UNC32-K00270_0058_BHLJ7FBBXX_TGACCA_S4_L007_R1_001.fastq.gz'},\n",
       "   'R2': {'filepath': '/data/pecgs/test_sample/C3L-00677/rna-seq/170906_UNC32-K00270_0058_BHLJ7FBBXX_TGACCA_S4_L007_R2_001.fastq.gz'}}},\n",
       " 'wxs': {'normal': {'barcode': 'CPT0071960002',\n",
       "   'filepath': '/data/pecgs/test_sample/C3L-00677/wxs/5cee818c-61e8-4441-bd9a-5c984cde9c6b_gdc_realn.bam'},\n",
       "  'tumor': {'barcode': 'CPT0071100006',\n",
       "   'filepath': '/data/pecgs/test_sample/C3L-00677/wxs/1d6c4f0f-09c4-4472-a19e-30ee7e0ecf64_gdc_realn.bam'}}}"
      ]
     },
     "execution_count": 5,
     "metadata": {},
     "output_type": "execute_result"
    }
   ],
   "source": [
    "m = yaml.safe_load(open('/data/pecgs/test_sample/C3L-00677/summary.yaml'))\n",
    "m"
   ]
  },
  {
   "cell_type": "markdown",
   "id": "0b35d143",
   "metadata": {},
   "source": [
    "###### top"
   ]
  },
  {
   "cell_type": "code",
   "execution_count": 25,
   "id": "8640dbe3",
   "metadata": {},
   "outputs": [],
   "source": [
    "sample = m['id']\n",
    "fq_1 = m['rna-seq']['tumor']['R1']['filepath']\n",
    "fq_2 = m['rna-seq']['tumor']['R2']['filepath']\n",
    "cpu = 16"
   ]
  },
  {
   "cell_type": "code",
   "execution_count": 56,
   "id": "57468e2b",
   "metadata": {},
   "outputs": [],
   "source": [
    "genome_lib_dir = '/data/pecgs/fusion/STAR-Fusion_dependencies/GRCh38_gencode_v37_CTAT_lib_Mar012021.plug-n-play/ctat_genome_lib_build_dir/'\n",
    "genome_db = '/data/pecgs/fusion/ericscript_dependencies/ericscript_db_homosapiens_ensembl84/'\n",
    "# ericscript = '/data/pecgs/fusion/ericscript-0.5.5/ericscript.pl'\n",
    "bwts = '/data/pecgs/fusion/Integrate_dependencies/bwts/'\n",
    "integrate_fasta = '/data/pecgs/fusion/Integrate_dependencies/STAR/hg38.fa'\n",
    "integrate_annotations = '/data/pecgs/fusion/Integrate_dependencies/annot.ensembl.GRCh38.txt'\n",
    "combine_call_script = '/data/pecgs/fusion/Fusion_hg38_scripts/combine_call.pl'\n",
    "filter_script = '/data/pecgs/fusion/Fusion_hg38_scripts/filter.pl'\n"
   ]
  },
  {
   "cell_type": "code",
   "execution_count": null,
   "id": "5e046ee9",
   "metadata": {},
   "outputs": [],
   "source": []
  },
  {
   "cell_type": "code",
   "execution_count": null,
   "id": "77056408",
   "metadata": {},
   "outputs": [],
   "source": []
  },
  {
   "cell_type": "markdown",
   "id": "843a348d",
   "metadata": {},
   "source": [
    "###### step 1: star fusion"
   ]
  },
  {
   "cell_type": "code",
   "execution_count": 8,
   "id": "6f72090f",
   "metadata": {},
   "outputs": [],
   "source": [
    "# mkdir -p STAR_FUSION\n",
    "# STAR-Fusion --left_fq $fq_1 --right_fq $fq_2 --CPU $cpu --examine_coding_effect -O STAR_FUSION --genome_lib_dir $genome_lib_dir --verbose_level 2 1> logs/STAR-Fusion.out 2> logs/STAR-Fusion.err\n",
    "\n"
   ]
  },
  {
   "cell_type": "code",
   "execution_count": 13,
   "id": "453ac5c8",
   "metadata": {},
   "outputs": [],
   "source": [
    "fusion_out = 'STAR_FUSION'\n"
   ]
  },
  {
   "cell_type": "code",
   "execution_count": 28,
   "id": "b7e7f48a",
   "metadata": {},
   "outputs": [
    {
     "data": {
      "text/plain": [
       "'STAR-Fusion --left_fq /data/pecgs/test_sample/C3L-00677/rna-seq/170906_UNC32-K00270_0058_BHLJ7FBBXX_TGACCA_S4_L007_R1_001.fastq.gz --right_fq /data/pecgs/test_sample/C3L-00677/rna-seq/170906_UNC32-K00270_0058_BHLJ7FBBXX_TGACCA_S4_L007_R2_001.fastq.gz --CPU 16 --examine_coding_effect -O STAR_FUSION --genome_lib_dir /data/pecgs/fusion/STAR-Fusion_dependencies/GRCh38_gencode_v37_CTAT_lib_Mar012021.plug-n-play/ctat_genome_lib_build_dir/ --verbose_level 2'"
      ]
     },
     "execution_count": 28,
     "metadata": {},
     "output_type": "execute_result"
    }
   ],
   "source": [
    "Path(fusion_out).mkdir(parents=True, exist_ok=True)\n",
    "cmd = f'STAR-Fusion --left_fq {fq_1} --right_fq {fq_2} --CPU {cpu} --examine_coding_effect -O {fusion_out} --genome_lib_dir {genome_lib_dir} --verbose_level 2'\n",
    "cmd\n",
    "\n"
   ]
  },
  {
   "cell_type": "code",
   "execution_count": 15,
   "id": "4c69995e",
   "metadata": {},
   "outputs": [],
   "source": [
    "# Cleanup big files from STAR-Fusion\n",
    "\n",
    "#rm STAR_FUSION/Aligned.out.bam\n",
    "#rm -r STAR_FUSION/star-fusion.preliminary\n",
    "#rm -r STAR_FUSION/_*\n",
    "#gzip STAR_FUSION/Chimeric.out.junction"
   ]
  },
  {
   "cell_type": "code",
   "execution_count": null,
   "id": "d23deb0d",
   "metadata": {},
   "outputs": [],
   "source": [
    "if os.path.exists(f'{fusion_out}/Aligned.out.bam'):\n",
    "    os.remove(f'{fusion_out}/Aligned.out.bam')\n",
    "    \n",
    "dirs = glob.glob(f'{fusion_out}/_*')\n",
    "for d in dirs:\n",
    "    shutil.rmtree(d)\n",
    "    \n",
    "if os.path.exists(f'{fusion_out}/star-fusion.preliminary'):\n",
    "    shutil.rmtree(f'{fusion_out}/star-fusion.preliminary')\n"
   ]
  },
  {
   "cell_type": "code",
   "execution_count": 23,
   "id": "418068fb",
   "metadata": {},
   "outputs": [],
   "source": []
  },
  {
   "cell_type": "markdown",
   "id": "7c416ef3",
   "metadata": {},
   "source": [
    "###### step 2: ericscript"
   ]
  },
  {
   "cell_type": "code",
   "execution_count": 53,
   "id": "762eaf04",
   "metadata": {},
   "outputs": [],
   "source": [
    "ericscript_out = 'ERICSCRIPT'\n",
    "ericscript = 'ericscript.pl'"
   ]
  },
  {
   "cell_type": "code",
   "execution_count": 54,
   "id": "402d20fb",
   "metadata": {},
   "outputs": [],
   "source": [
    "# /storage1/fs1/dinglab/Active/Projects/PECGS/PECGS_pipeline/Fusion/ericscript-0.5.5/ericscript.pl -o ERICSCRIPT --remove -ntrim 0 --refid homo_sapiens -db $genome_db -p $cpu -name $sample $fq_1 $fq_2\n",
    "\n"
   ]
  },
  {
   "cell_type": "code",
   "execution_count": 57,
   "id": "3b467937",
   "metadata": {},
   "outputs": [
    {
     "data": {
      "text/plain": [
       "'/data/pecgs/fusion/ericscript-0.5.5/ericscript.pl -o ERICSCRIPT --remove -ntrim 0 --refid homo_sapiens -db /data/pecgs/fusion/ericscript_dependencies/ericscript_db_homosapiens_ensembl84/ -p 16 -name C3L-00677 /data/pecgs/test_sample/C3L-00677/rna-seq/170906_UNC32-K00270_0058_BHLJ7FBBXX_TGACCA_S4_L007_R1_001.fastq.gz /data/pecgs/test_sample/C3L-00677/rna-seq/170906_UNC32-K00270_0058_BHLJ7FBBXX_TGACCA_S4_L007_R2_001.fastq.gz'"
      ]
     },
     "execution_count": 57,
     "metadata": {},
     "output_type": "execute_result"
    }
   ],
   "source": [
    "cmd = f'{ericscript} -o {ericscript_out} --remove -ntrim 0 --refid homo_sapiens -db {genome_db} -p {cpu} -name {sample} {fq_1} {fq_2}'\n",
    "cmd\n",
    "\n"
   ]
  },
  {
   "cell_type": "code",
   "execution_count": null,
   "id": "7efe4215",
   "metadata": {},
   "outputs": [],
   "source": []
  },
  {
   "cell_type": "markdown",
   "id": "272c9206",
   "metadata": {},
   "source": [
    "###### step 3: STAR"
   ]
  },
  {
   "cell_type": "code",
   "execution_count": 32,
   "id": "0b67cda2",
   "metadata": {},
   "outputs": [],
   "source": [
    "star_out = 'STAR'\n",
    "star_genome_dir = os.path.join(genome_lib_dir, 'ref_genome.fa.star.idx')"
   ]
  },
  {
   "cell_type": "code",
   "execution_count": 30,
   "id": "ddfbbe5b",
   "metadata": {},
   "outputs": [],
   "source": [
    "# STAR --runThreadN 80 --genomeDir /storage1/fs1/dinglab/Active/Projects/PECGS/PECGS_pipeline/Fusion/STAR-Fusion_dependencies/GRCh38_gencode_v37_CTAT_lib_Mar012021.plug-n-play/ctat_genome_lib_build_dir/ref_genome.fa.star.idx --readFilesCommand zcat --readFilesIn ../${fq_1} ../${fq_2} --outSAMtype BAM Unsorted --outFileNamePrefix star --chimSegmentMin 18 --chimOutType WithinBAM --outSAMunmapped Within 1> ../logs/star.out 2> ../logs/star.err\n",
    "\n"
   ]
  },
  {
   "cell_type": "code",
   "execution_count": 33,
   "id": "af099960",
   "metadata": {},
   "outputs": [
    {
     "data": {
      "text/plain": [
       "'STAR --runThreadN 80 --genomeDir /data/pecgs/fusion/STAR-Fusion_dependencies/GRCh38_gencode_v37_CTAT_lib_Mar012021.plug-n-play/ctat_genome_lib_build_dir/ref_genome.fa.star.idx --readFilesCommand zcat --readFilesIn /data/pecgs/test_sample/C3L-00677/rna-seq/170906_UNC32-K00270_0058_BHLJ7FBBXX_TGACCA_S4_L007_R1_001.fastq.gz /data/pecgs/test_sample/C3L-00677/rna-seq/170906_UNC32-K00270_0058_BHLJ7FBBXX_TGACCA_S4_L007_R2_001.fastq.gz --outSAMtype BAM Unsorted --outFileNamePrefix STAR/ --chimSegmentMin 18 --chimOutType WithinBAM --outSAMunmapped Within'"
      ]
     },
     "execution_count": 33,
     "metadata": {},
     "output_type": "execute_result"
    }
   ],
   "source": [
    "Path(star_out).mkdir(parents=True, exist_ok=True)\n",
    "cmd = f'STAR --runThreadN 80 --genomeDir {star_genome_dir} --readFilesCommand zcat --readFilesIn {fq_1} {fq_2} --outSAMtype BAM Unsorted --outFileNamePrefix {star_out}/ --chimSegmentMin 18 --chimOutType WithinBAM --outSAMunmapped Within'\n",
    "cmd\n"
   ]
  },
  {
   "cell_type": "code",
   "execution_count": 34,
   "id": "29055b71",
   "metadata": {},
   "outputs": [
    {
     "data": {
      "text/plain": [
       "'samtools sort STAR/Aligned.out.bam STAR/Aligned.out.sorted'"
      ]
     },
     "execution_count": 34,
     "metadata": {},
     "output_type": "execute_result"
    }
   ],
   "source": [
    "cmd = f'samtools sort {star_out}/Aligned.out.bam {star_out}/Aligned.out.sorted'\n",
    "cmd"
   ]
  },
  {
   "cell_type": "code",
   "execution_count": 35,
   "id": "0ab2915a",
   "metadata": {},
   "outputs": [
    {
     "data": {
      "text/plain": [
       "'samtools index STAR/Aligned.out.sorted.bam'"
      ]
     },
     "execution_count": 35,
     "metadata": {},
     "output_type": "execute_result"
    }
   ],
   "source": [
    "cmd = f'samtools index {star_out}/Aligned.out.sorted.bam'\n",
    "cmd"
   ]
  },
  {
   "cell_type": "code",
   "execution_count": null,
   "id": "862384b7",
   "metadata": {},
   "outputs": [],
   "source": []
  },
  {
   "cell_type": "markdown",
   "id": "92baaa5b",
   "metadata": {},
   "source": [
    "###### step 4: Integrate"
   ]
  },
  {
   "cell_type": "code",
   "execution_count": 37,
   "id": "5000b01c",
   "metadata": {},
   "outputs": [],
   "source": [
    "integrate_out = 'INTEGRATE'"
   ]
  },
  {
   "cell_type": "code",
   "execution_count": 38,
   "id": "aff4b9ad",
   "metadata": {},
   "outputs": [],
   "source": [
    "# Integrate fusion -reads INTEGRATE/reads.txt -sum INTEGRATE/summary.tsv -ex INTEGRATE/exons.tsv -bk INTEGRATE/breakpoints.tsv -vcf INTEGRATE/bk_sv.vcf -bedpe INTEGRATE/fusions.bedpe $fasta $annot $bwts$bam_dir/starAligned.out.sorted.bam $bam_dir/starAligned.out.sorted.bam 1> logs/Integrate.out 2> logs/Integrate.err\n",
    "\n"
   ]
  },
  {
   "cell_type": "code",
   "execution_count": 39,
   "id": "f662ee04",
   "metadata": {},
   "outputs": [
    {
     "data": {
      "text/plain": [
       "'Integrate fusion -reads INTEGRATE/reads.txt -sum INTEGRATE/summary.tsv -ex INTEGRATE/exons.tsv -bk INTEGRATE/breakpoints.tsv -vcf INTEGRATE/bk_sv.vcf -bedpe INTEGRATE/fusions.bedpe /data/pecgs/fusion/Integrate_dependencies/STAR/hg38.fa /data/pecgs/fusion/Integrate_dependencies/annot.ensembl.GRCh38.txt /data/pecgs/fusion/Integrate_dependencies/bwts/ STAR/starAligned.out.sorted.bam STAR/starAligned.out.sorted.bam'"
      ]
     },
     "execution_count": 39,
     "metadata": {},
     "output_type": "execute_result"
    }
   ],
   "source": [
    "Path(integrate_out).mkdir(parents=True, exist_ok=True)\n",
    "cmd = f'Integrate fusion -reads {integrate_out}/reads.txt -sum {integrate_out}/summary.tsv -ex {integrate_out}/exons.tsv -bk {integrate_out}/breakpoints.tsv -vcf {integrate_out}/bk_sv.vcf -bedpe {integrate_out}/fusions.bedpe {integrate_fasta} {integrate_annotations} {bwts} {star_out}/Aligned.out.sorted.bam {star_out}/Aligned.out.sorted.bam'\n",
    "cmd\n"
   ]
  },
  {
   "cell_type": "code",
   "execution_count": null,
   "id": "e905407f",
   "metadata": {},
   "outputs": [],
   "source": [
    "for fp in [f'{star_out}/Aligned.out.bam',\n",
    "           f'{star_out}/Aligned.out.sorted.bam',\n",
    "           f'{star_out}/Aligned.out.sorted.bam.bai']:\n",
    "    if os.path.exists(fp):\n",
    "        os.remove(fp)\n",
    "\n",
    "for fp in [f'{star_out}/star_STARtmp']:\n",
    "    if os.path.exists(fp):\n",
    "        shutil.rmtree(fp)"
   ]
  },
  {
   "cell_type": "code",
   "execution_count": null,
   "id": "5b6e52ee",
   "metadata": {},
   "outputs": [],
   "source": []
  },
  {
   "cell_type": "markdown",
   "id": "cdfdc424",
   "metadata": {},
   "source": [
    "###### step 5: merge fusions"
   ]
  },
  {
   "cell_type": "code",
   "execution_count": 41,
   "id": "3da4d458",
   "metadata": {},
   "outputs": [],
   "source": [
    "merge_fusions_out = 'Merged_Fusions'"
   ]
  },
  {
   "cell_type": "code",
   "execution_count": null,
   "id": "e2da6354",
   "metadata": {},
   "outputs": [],
   "source": [
    "# perl /storage1/fs1/dinglab/Active/Projects/PECGS/PECGS_pipeline/Fusion/Fusion_hg38_scripts/combine_call.pl $sample STAR_FUSION/star-fusion.fusion_predictions.abridged.coding_effect.tsv ERICSCRIPT/${sample}.results.total.tsv INTEGRATE/summary.tsv INTEGRATE/breakpoints.tsv Merged_Fusions 1> logs/Merge.out 2> logs/Merge.err\n"
   ]
  },
  {
   "cell_type": "code",
   "execution_count": 43,
   "id": "05b60545",
   "metadata": {},
   "outputs": [
    {
     "data": {
      "text/plain": [
       "'perl /data/pecgs/fusion/Fusion_hg38_scripts/combine_call.pl C3L-00677 STAR_FUSION/star-fusion.fusion_predictions.abridged.coding_effect.tsv ERICSCRIPT/C3L-00677.results.total.tsv INTEGRATE/summary.tsv INTEGRATE/breakpoints.tsv Merged_Fusions'"
      ]
     },
     "execution_count": 43,
     "metadata": {},
     "output_type": "execute_result"
    }
   ],
   "source": [
    "Path(merge_fusions_out).mkdir(parents=True, exist_ok=True)\n",
    "cmd = f'perl {combine_call_script} {sample} {fusion_out}/star-fusion.fusion_predictions.abridged.coding_effect.tsv {ericscript_out}/{sample}.results.total.tsv {integrate_out}/summary.tsv {integrate_out}/breakpoints.tsv {merge_fusions_out}'\n",
    "cmd\n"
   ]
  },
  {
   "cell_type": "code",
   "execution_count": 48,
   "id": "9a90515f",
   "metadata": {},
   "outputs": [
    {
     "data": {
      "text/plain": [
       "'perl /data/pecgs/fusion/Fusion_hg38_scripts/filter.pl Merged_Fusions'"
      ]
     },
     "execution_count": 48,
     "metadata": {},
     "output_type": "execute_result"
    }
   ],
   "source": [
    "cmd = f'perl {filter_script} {merge_fusions_out}'\n",
    "\n",
    "cmd"
   ]
  },
  {
   "cell_type": "code",
   "execution_count": null,
   "id": "3f047dc4",
   "metadata": {},
   "outputs": [],
   "source": []
  },
  {
   "cell_type": "code",
   "execution_count": null,
   "id": "18a81827",
   "metadata": {},
   "outputs": [],
   "source": []
  }
 ],
 "metadata": {
  "kernelspec": {
   "display_name": "Python 3 (ipykernel)",
   "language": "python",
   "name": "python3"
  },
  "language_info": {
   "codemirror_mode": {
    "name": "ipython",
    "version": 3
   },
   "file_extension": ".py",
   "mimetype": "text/x-python",
   "name": "python",
   "nbconvert_exporter": "python",
   "pygments_lexer": "ipython3",
   "version": "3.8.12"
  }
 },
 "nbformat": 4,
 "nbformat_minor": 5
}
