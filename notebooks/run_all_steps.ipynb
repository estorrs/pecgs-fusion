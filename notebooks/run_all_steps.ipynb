{
 "cells": [
  {
   "cell_type": "code",
   "execution_count": 20,
   "id": "ed6046ea",
   "metadata": {},
   "outputs": [],
   "source": [
    "import glob\n",
    "import os\n",
    "import re\n",
    "import subprocess\n",
    "import shutil\n",
    "import yaml\n",
    "from pathlib import Path"
   ]
  },
  {
   "cell_type": "code",
   "execution_count": 5,
   "id": "93c992f3",
   "metadata": {},
   "outputs": [
    {
     "data": {
      "text/plain": [
       "{'id': 'C3L-00677',\n",
       " 'rna-seq': {'tumor': {'R1': {'filepath': '/data/pecgs/test_sample/C3L-00677/rna-seq/170906_UNC32-K00270_0058_BHLJ7FBBXX_TGACCA_S4_L007_R1_001.fastq.gz'},\n",
       "   'R2': {'filepath': '/data/pecgs/test_sample/C3L-00677/rna-seq/170906_UNC32-K00270_0058_BHLJ7FBBXX_TGACCA_S4_L007_R2_001.fastq.gz'}}},\n",
       " 'wxs': {'normal': {'barcode': 'CPT0071960002',\n",
       "   'filepath': '/data/pecgs/test_sample/C3L-00677/wxs/5cee818c-61e8-4441-bd9a-5c984cde9c6b_gdc_realn.bam'},\n",
       "  'tumor': {'barcode': 'CPT0071100006',\n",
       "   'filepath': '/data/pecgs/test_sample/C3L-00677/wxs/1d6c4f0f-09c4-4472-a19e-30ee7e0ecf64_gdc_realn.bam'}}}"
      ]
     },
     "execution_count": 5,
     "metadata": {},
     "output_type": "execute_result"
    }
   ],
   "source": [
    "m = yaml.safe_load(open('/data/pecgs/test_sample/C3L-00677/summary.yaml'))\n",
    "m"
   ]
  },
  {
   "cell_type": "markdown",
   "id": "0fa6e99c",
   "metadata": {},
   "source": [
    "###### top"
   ]
  },
  {
   "cell_type": "code",
   "execution_count": 25,
   "id": "0665350e",
   "metadata": {},
   "outputs": [],
   "source": [
    "sample = m['id']\n",
    "fq_1 = m['rna-seq']['tumor']['R1']['filepath']\n",
    "fq_2 = m['rna-seq']['tumor']['R2']['filepath']\n",
    "cpu = 16"
   ]
  },
  {
   "cell_type": "code",
   "execution_count": 73,
   "id": "cddb4e22",
   "metadata": {},
   "outputs": [],
   "source": [
    "genome_lib_dir = '/data/pecgs/fusion/STAR-Fusion_dependencies/GRCh38_gencode_v37_CTAT_lib_Mar012021.plug-n-play/ctat_genome_lib_build_dir'\n",
    "genome_db = '/data/pecgs/fusion/ericscript_dependencies/ericscript_db_homosapiens_ensembl84'\n",
    "# ericscript = '/data/pecgs/fusion/ericscript-0.5.5/ericscript.pl'\n",
    "bwts = '/data/pecgs/fusion/Integrate_dependencies/bwts/'\n",
    "integrate_executable = '/data/pecgs/fusion/INTEGRATE_0_2_6/INTEGRATE-build/bin/Integrate'\n",
    "integrate_fasta = '/data/pecgs/fusion/Integrate_dependencies/STAR/hg38.fa'\n",
    "integrate_annotations = '/data/pecgs/fusion/Integrate_dependencies/annot.ensembl.GRCh38.txt'\n",
    "filter_database = '/data/pecgs/fusion/FilterDatabase'\n",
    "fusion_annotator_dir = '/data/pecgs/fusion/FusionAnnotator'\n",
    "combine_call_script = '/home/estorrs/pecgs-fusion/fusion/combine_call.pl'\n",
    "filter_script = '/home/estorrs/pecgs-fusion/fusion/filter.pl'\n"
   ]
  },
  {
   "cell_type": "code",
   "execution_count": null,
   "id": "4f881ee9",
   "metadata": {},
   "outputs": [],
   "source": []
  },
  {
   "cell_type": "code",
   "execution_count": null,
   "id": "8a03527a",
   "metadata": {},
   "outputs": [],
   "source": []
  },
  {
   "cell_type": "markdown",
   "id": "e6656909",
   "metadata": {},
   "source": [
    "###### step 1: star fusion"
   ]
  },
  {
   "cell_type": "code",
   "execution_count": 8,
   "id": "6f7bc4aa",
   "metadata": {},
   "outputs": [],
   "source": [
    "# mkdir -p STAR_FUSION\n",
    "# STAR-Fusion --left_fq $fq_1 --right_fq $fq_2 --CPU $cpu --examine_coding_effect -O STAR_FUSION --genome_lib_dir $genome_lib_dir --verbose_level 2 1> logs/STAR-Fusion.out 2> logs/STAR-Fusion.err\n",
    "\n"
   ]
  },
  {
   "cell_type": "code",
   "execution_count": 13,
   "id": "6ebc5b11",
   "metadata": {},
   "outputs": [],
   "source": [
    "fusion_out = 'STAR_FUSION'\n"
   ]
  },
  {
   "cell_type": "code",
   "execution_count": 28,
   "id": "803770f3",
   "metadata": {},
   "outputs": [
    {
     "data": {
      "text/plain": [
       "'STAR-Fusion --left_fq /data/pecgs/test_sample/C3L-00677/rna-seq/170906_UNC32-K00270_0058_BHLJ7FBBXX_TGACCA_S4_L007_R1_001.fastq.gz --right_fq /data/pecgs/test_sample/C3L-00677/rna-seq/170906_UNC32-K00270_0058_BHLJ7FBBXX_TGACCA_S4_L007_R2_001.fastq.gz --CPU 16 --examine_coding_effect -O STAR_FUSION --genome_lib_dir /data/pecgs/fusion/STAR-Fusion_dependencies/GRCh38_gencode_v37_CTAT_lib_Mar012021.plug-n-play/ctat_genome_lib_build_dir/ --verbose_level 2'"
      ]
     },
     "execution_count": 28,
     "metadata": {},
     "output_type": "execute_result"
    }
   ],
   "source": [
    "Path(fusion_out).mkdir(parents=True, exist_ok=True)\n",
    "cmd = f'STAR-Fusion --left_fq {fq_1} --right_fq {fq_2} --CPU {cpu} --examine_coding_effect -O {fusion_out} --genome_lib_dir {genome_lib_dir} --verbose_level 2'\n",
    "cmd\n",
    "\n"
   ]
  },
  {
   "cell_type": "code",
   "execution_count": 58,
   "id": "253c5da0",
   "metadata": {},
   "outputs": [
    {
     "ename": "NameError",
     "evalue": "name 'args' is not defined",
     "output_type": "error",
     "traceback": [
      "\u001b[0;31m---------------------------------------------------------------------------\u001b[0m",
      "\u001b[0;31mNameError\u001b[0m                                 Traceback (most recent call last)",
      "Input \u001b[0;32mIn [58]\u001b[0m, in \u001b[0;36m<module>\u001b[0;34m\u001b[0m\n\u001b[0;32m----> 1\u001b[0m cmd \u001b[38;5;241m=\u001b[39m \u001b[38;5;124mf\u001b[39m\u001b[38;5;124m'\u001b[39m\u001b[38;5;124mSTAR-Fusion --left_fq \u001b[39m\u001b[38;5;132;01m{\u001b[39;00margs\u001b[38;5;241m.\u001b[39mfq_1\u001b[38;5;132;01m}\u001b[39;00m\u001b[38;5;124m --right_fq \u001b[39m\u001b[38;5;132;01m{\u001b[39;00margs\u001b[38;5;241m.\u001b[39mfq_2\u001b[38;5;132;01m}\u001b[39;00m\u001b[38;5;124m --CPU \u001b[39m\u001b[38;5;132;01m{\u001b[39;00margs\u001b[38;5;241m.\u001b[39mcpu\u001b[38;5;132;01m}\u001b[39;00m\u001b[38;5;124m --examine_coding_effect -O \u001b[39m\u001b[38;5;132;01m{\u001b[39;00mFUSION_OUT\u001b[38;5;132;01m}\u001b[39;00m\u001b[38;5;124m --genome_lib_dir \u001b[39m\u001b[38;5;132;01m{\u001b[39;00margs\u001b[38;5;241m.\u001b[39mgenome_lib_dir\u001b[38;5;132;01m}\u001b[39;00m\u001b[38;5;124m --verbose_level 2\u001b[39m\u001b[38;5;124m'\u001b[39m\n\u001b[1;32m      2\u001b[0m cmd\n",
      "\u001b[0;31mNameError\u001b[0m: name 'args' is not defined"
     ]
    }
   ],
   "source": [
    "cmd = f'STAR-Fusion --left_fq {args.fq_1} --right_fq {args.fq_2} --CPU {args.cpu} --examine_coding_effect -O {FUSION_OUT} --genome_lib_dir {args.genome_lib_dir} --verbose_level 2'\n",
    "cmd"
   ]
  },
  {
   "cell_type": "code",
   "execution_count": 15,
   "id": "c04810a2",
   "metadata": {},
   "outputs": [],
   "source": [
    "# Cleanup big files from STAR-Fusion\n",
    "\n",
    "#rm STAR_FUSION/Aligned.out.bam\n",
    "#rm -r STAR_FUSION/star-fusion.preliminary\n",
    "#rm -r STAR_FUSION/_*\n",
    "#gzip STAR_FUSION/Chimeric.out.junction"
   ]
  },
  {
   "cell_type": "code",
   "execution_count": null,
   "id": "84824d57",
   "metadata": {},
   "outputs": [],
   "source": [
    "if os.path.exists(f'{fusion_out}/Aligned.out.bam'):\n",
    "    os.remove(f'{fusion_out}/Aligned.out.bam')\n",
    "    \n",
    "dirs = glob.glob(f'{fusion_out}/_*')\n",
    "for d in dirs:\n",
    "    shutil.rmtree(d)\n",
    "    \n",
    "if os.path.exists(f'{fusion_out}/star-fusion.preliminary'):\n",
    "    shutil.rmtree(f'{fusion_out}/star-fusion.preliminary')\n"
   ]
  },
  {
   "cell_type": "code",
   "execution_count": 23,
   "id": "aea936bb",
   "metadata": {},
   "outputs": [],
   "source": []
  },
  {
   "cell_type": "markdown",
   "id": "6cc33523",
   "metadata": {},
   "source": [
    "###### step 2: ericscript"
   ]
  },
  {
   "cell_type": "code",
   "execution_count": 53,
   "id": "5041975d",
   "metadata": {},
   "outputs": [],
   "source": [
    "ericscript_out = 'ERICSCRIPT'\n",
    "ericscript = 'ericscript.pl'"
   ]
  },
  {
   "cell_type": "code",
   "execution_count": 54,
   "id": "071c18c9",
   "metadata": {},
   "outputs": [],
   "source": [
    "# /storage1/fs1/dinglab/Active/Projects/PECGS/PECGS_pipeline/Fusion/ericscript-0.5.5/ericscript.pl -o ERICSCRIPT --remove -ntrim 0 --refid homo_sapiens -db $genome_db -p $cpu -name $sample $fq_1 $fq_2\n",
    "\n"
   ]
  },
  {
   "cell_type": "code",
   "execution_count": 57,
   "id": "d58a51ab",
   "metadata": {},
   "outputs": [
    {
     "data": {
      "text/plain": [
       "'/data/pecgs/fusion/ericscript-0.5.5/ericscript.pl -o ERICSCRIPT --remove -ntrim 0 --refid homo_sapiens -db /data/pecgs/fusion/ericscript_dependencies/ericscript_db_homosapiens_ensembl84/ -p 16 -name C3L-00677 /data/pecgs/test_sample/C3L-00677/rna-seq/170906_UNC32-K00270_0058_BHLJ7FBBXX_TGACCA_S4_L007_R1_001.fastq.gz /data/pecgs/test_sample/C3L-00677/rna-seq/170906_UNC32-K00270_0058_BHLJ7FBBXX_TGACCA_S4_L007_R2_001.fastq.gz'"
      ]
     },
     "execution_count": 57,
     "metadata": {},
     "output_type": "execute_result"
    }
   ],
   "source": [
    "cmd = f'{ericscript} -o {ericscript_out} --remove -ntrim 0 --refid homo_sapiens -db {genome_db} -p {cpu} -name {sample} {fq_1} {fq_2}'\n",
    "cmd\n",
    "\n"
   ]
  },
  {
   "cell_type": "code",
   "execution_count": null,
   "id": "99e5d67c",
   "metadata": {},
   "outputs": [],
   "source": []
  },
  {
   "cell_type": "markdown",
   "id": "17cd7ee0",
   "metadata": {},
   "source": [
    "###### step 3: STAR"
   ]
  },
  {
   "cell_type": "code",
   "execution_count": 32,
   "id": "b534e7d5",
   "metadata": {},
   "outputs": [],
   "source": [
    "star_out = 'STAR'\n",
    "star_genome_dir = os.path.join(genome_lib_dir, 'ref_genome.fa.star.idx')"
   ]
  },
  {
   "cell_type": "code",
   "execution_count": 30,
   "id": "2f4ec461",
   "metadata": {},
   "outputs": [],
   "source": [
    "# STAR --runThreadN 80 --genomeDir /storage1/fs1/dinglab/Active/Projects/PECGS/PECGS_pipeline/Fusion/STAR-Fusion_dependencies/GRCh38_gencode_v37_CTAT_lib_Mar012021.plug-n-play/ctat_genome_lib_build_dir/ref_genome.fa.star.idx --readFilesCommand zcat --readFilesIn ../${fq_1} ../${fq_2} --outSAMtype BAM Unsorted --outFileNamePrefix star --chimSegmentMin 18 --chimOutType WithinBAM --outSAMunmapped Within 1> ../logs/star.out 2> ../logs/star.err\n",
    "\n"
   ]
  },
  {
   "cell_type": "code",
   "execution_count": 59,
   "id": "26faf498",
   "metadata": {},
   "outputs": [
    {
     "data": {
      "text/plain": [
       "'STAR --runThreadN 50 --genomeDir /data/pecgs/fusion/STAR-Fusion_dependencies/GRCh38_gencode_v37_CTAT_lib_Mar012021.plug-n-play/ctat_genome_lib_build_dir/ref_genome.fa.star.idx --readFilesCommand zcat --readFilesIn /data/pecgs/test_sample/C3L-00677/rna-seq/170906_UNC32-K00270_0058_BHLJ7FBBXX_TGACCA_S4_L007_R1_001.fastq.gz /data/pecgs/test_sample/C3L-00677/rna-seq/170906_UNC32-K00270_0058_BHLJ7FBBXX_TGACCA_S4_L007_R2_001.fastq.gz --outSAMtype BAM Unsorted --outFileNamePrefix STAR/ --chimSegmentMin 18 --chimOutType WithinBAM --outSAMunmapped Within'"
      ]
     },
     "execution_count": 59,
     "metadata": {},
     "output_type": "execute_result"
    }
   ],
   "source": [
    "Path(star_out).mkdir(parents=True, exist_ok=True)\n",
    "cmd = f'STAR --runThreadN 50 --genomeDir {star_genome_dir} --readFilesCommand zcat --readFilesIn {fq_1} {fq_2} --outSAMtype BAM Unsorted --outFileNamePrefix {star_out}/ --chimSegmentMin 18 --chimOutType WithinBAM --outSAMunmapped Within'\n",
    "cmd\n"
   ]
  },
  {
   "cell_type": "code",
   "execution_count": 34,
   "id": "c319198e",
   "metadata": {},
   "outputs": [
    {
     "data": {
      "text/plain": [
       "'samtools sort STAR/Aligned.out.bam STAR/Aligned.out.sorted'"
      ]
     },
     "execution_count": 34,
     "metadata": {},
     "output_type": "execute_result"
    }
   ],
   "source": [
    "cmd = f'samtools sort {star_out}/Aligned.out.bam {star_out}/Aligned.out.sorted'\n",
    "cmd"
   ]
  },
  {
   "cell_type": "code",
   "execution_count": 35,
   "id": "365164e1",
   "metadata": {},
   "outputs": [
    {
     "data": {
      "text/plain": [
       "'samtools index STAR/Aligned.out.sorted.bam'"
      ]
     },
     "execution_count": 35,
     "metadata": {},
     "output_type": "execute_result"
    }
   ],
   "source": [
    "cmd = f'samtools index {star_out}/Aligned.out.sorted.bam'\n",
    "cmd"
   ]
  },
  {
   "cell_type": "code",
   "execution_count": null,
   "id": "10cce20d",
   "metadata": {},
   "outputs": [],
   "source": []
  },
  {
   "cell_type": "markdown",
   "id": "90d83edf",
   "metadata": {},
   "source": [
    "###### step 4: Integrate"
   ]
  },
  {
   "cell_type": "code",
   "execution_count": 37,
   "id": "7b2ede2b",
   "metadata": {},
   "outputs": [],
   "source": [
    "integrate_out = 'INTEGRATE'"
   ]
  },
  {
   "cell_type": "code",
   "execution_count": 62,
   "id": "93d16d30",
   "metadata": {},
   "outputs": [
    {
     "data": {
      "text/plain": [
       "('/data/pecgs/fusion/INTEGRATE_0_2_6/INTEGRATE-build/vendor/divsufsort',\n",
       " '/data/pecgs/fusion/INTEGRATE_0_2_6/INTEGRATE-build/bin/Integrate')"
      ]
     },
     "execution_count": 62,
     "metadata": {},
     "output_type": "execute_result"
    }
   ],
   "source": [
    "# integrate_divsufsort = os.path.join(integrate_base, 'vendor', 'divsufsort')\n",
    "# integrate_executable = os.path.join(integrate_base, 'bin', 'Integrate')\n",
    "# integrate_executable"
   ]
  },
  {
   "cell_type": "code",
   "execution_count": null,
   "id": "28f2b194",
   "metadata": {},
   "outputs": [],
   "source": [
    "# LIBDIVSUFSORT_ROOT set to /data/pecgs/fusion/INTEGRATE_0_2_6/INTEGRATE-build/vendor/divsufsort"
   ]
  },
  {
   "cell_type": "code",
   "execution_count": null,
   "id": "113ef13a",
   "metadata": {},
   "outputs": [],
   "source": [
    "# os.environ[\"LIBDIVSUFSORT_ROOT\"] = integrate_divsufsort"
   ]
  },
  {
   "cell_type": "code",
   "execution_count": 38,
   "id": "eae277e0",
   "metadata": {},
   "outputs": [],
   "source": [
    "# Integrate fusion -reads INTEGRATE/reads.txt -sum INTEGRATE/summary.tsv -ex INTEGRATE/exons.tsv -bk INTEGRATE/breakpoints.tsv -vcf INTEGRATE/bk_sv.vcf -bedpe INTEGRATE/fusions.bedpe $fasta $annot $bwts$bam_dir/starAligned.out.sorted.bam $bam_dir/starAligned.out.sorted.bam 1> logs/Integrate.out 2> logs/Integrate.err\n",
    "\n"
   ]
  },
  {
   "cell_type": "code",
   "execution_count": 65,
   "id": "fea31b52",
   "metadata": {},
   "outputs": [
    {
     "data": {
      "text/plain": [
       "'/data/pecgs/fusion/INTEGRATE_0_2_6/INTEGRATE-build/bin/Integrate fusion -reads INTEGRATE/reads.txt -sum INTEGRATE/summary.tsv -ex INTEGRATE/exons.tsv -bk INTEGRATE/breakpoints.tsv -vcf INTEGRATE/bk_sv.vcf -bedpe INTEGRATE/fusions.bedpe /data/pecgs/fusion/Integrate_dependencies/STAR/hg38.fa /data/pecgs/fusion/Integrate_dependencies/annot.ensembl.GRCh38.txt /data/pecgs/fusion/Integrate_dependencies/bwts/ STAR/Aligned.out.sorted.bam STAR/Aligned.out.sorted.bam'"
      ]
     },
     "execution_count": 65,
     "metadata": {},
     "output_type": "execute_result"
    }
   ],
   "source": [
    "Path(integrate_out).mkdir(parents=True, exist_ok=True)\n",
    "cmd = f'{integrate_executable} fusion -reads {integrate_out}/reads.txt -sum {integrate_out}/summary.tsv -ex {integrate_out}/exons.tsv -bk {integrate_out}/breakpoints.tsv -vcf {integrate_out}/bk_sv.vcf -bedpe {integrate_out}/fusions.bedpe {integrate_fasta} {integrate_annotations} {bwts} {star_out}/Aligned.out.sorted.bam {star_out}/Aligned.out.sorted.bam'\n",
    "cmd\n"
   ]
  },
  {
   "cell_type": "code",
   "execution_count": null,
   "id": "52298049",
   "metadata": {},
   "outputs": [],
   "source": [
    "for fp in [f'{star_out}/Aligned.out.bam',\n",
    "           f'{star_out}/Aligned.out.sorted.bam',\n",
    "           f'{star_out}/Aligned.out.sorted.bam.bai']:\n",
    "    if os.path.exists(fp):\n",
    "        os.remove(fp)\n",
    "\n",
    "for fp in [f'{star_out}/star_STARtmp']:\n",
    "    if os.path.exists(fp):\n",
    "        shutil.rmtree(fp)"
   ]
  },
  {
   "cell_type": "code",
   "execution_count": null,
   "id": "c19890b4",
   "metadata": {},
   "outputs": [],
   "source": []
  },
  {
   "cell_type": "markdown",
   "id": "09a5d27c",
   "metadata": {},
   "source": [
    "###### step 5: merge fusions"
   ]
  },
  {
   "cell_type": "code",
   "execution_count": 41,
   "id": "61f069a9",
   "metadata": {},
   "outputs": [],
   "source": [
    "merge_fusions_out = 'Merged_Fusions'"
   ]
  },
  {
   "cell_type": "code",
   "execution_count": null,
   "id": "200056ac",
   "metadata": {},
   "outputs": [],
   "source": [
    "# perl /storage1/fs1/dinglab/Active/Projects/PECGS/PECGS_pipeline/Fusion/Fusion_hg38_scripts/combine_call.pl $sample STAR_FUSION/star-fusion.fusion_predictions.abridged.coding_effect.tsv ERICSCRIPT/${sample}.results.total.tsv INTEGRATE/summary.tsv INTEGRATE/breakpoints.tsv Merged_Fusions 1> logs/Merge.out 2> logs/Merge.err\n"
   ]
  },
  {
   "cell_type": "code",
   "execution_count": 74,
   "id": "27da157a",
   "metadata": {},
   "outputs": [
    {
     "data": {
      "text/plain": [
       "'perl /home/estorrs/pecgs-fusion/fusion/combine_call.pl C3L-00677 STAR_FUSION/star-fusion.fusion_predictions.abridged.coding_effect.tsv ERICSCRIPT/C3L-00677.results.total.tsv INTEGRATE/summary.tsv INTEGRATE/breakpoints.tsv Merged_Fusions /data/pecgs/fusion/FilterDatabase /data/pecgs/fusion/STAR-Fusion_dependencies/GRCh38_gencode_v37_CTAT_lib_Mar012021.plug-n-play/ctat_genome_lib_build_dir /data/pecgs/fusion/FusionAnnotator'"
      ]
     },
     "execution_count": 74,
     "metadata": {},
     "output_type": "execute_result"
    }
   ],
   "source": [
    "Path(merge_fusions_out).mkdir(parents=True, exist_ok=True)\n",
    "cmd = f'perl {combine_call_script} {sample} {fusion_out}/star-fusion.fusion_predictions.abridged.coding_effect.tsv {ericscript_out}/{sample}.results.total.tsv {integrate_out}/summary.tsv {integrate_out}/breakpoints.tsv {merge_fusions_out} {filter_database} {genome_lib_dir} {fusion_annotator_dir}'\n",
    "cmd\n"
   ]
  },
  {
   "cell_type": "code",
   "execution_count": 76,
   "id": "bde771de",
   "metadata": {},
   "outputs": [
    {
     "data": {
      "text/plain": [
       "'perl /home/estorrs/pecgs-fusion/fusion/filter.pl Merged_Fusions C3L-00677 /data/pecgs/fusion/FilterDatabase'"
      ]
     },
     "execution_count": 76,
     "metadata": {},
     "output_type": "execute_result"
    }
   ],
   "source": [
    "cmd = f'perl {filter_script} {merge_fusions_out} {sample} {filter_database}'\n",
    "\n",
    "cmd"
   ]
  },
  {
   "cell_type": "code",
   "execution_count": null,
   "id": "f8c9d324",
   "metadata": {},
   "outputs": [],
   "source": []
  },
  {
   "cell_type": "code",
   "execution_count": null,
   "id": "e98a40e6",
   "metadata": {},
   "outputs": [],
   "source": []
  }
 ],
 "metadata": {
  "kernelspec": {
   "display_name": "Python 3 (ipykernel)",
   "language": "python",
   "name": "python3"
  },
  "language_info": {
   "codemirror_mode": {
    "name": "ipython",
    "version": 3
   },
   "file_extension": ".py",
   "mimetype": "text/x-python",
   "name": "python",
   "nbconvert_exporter": "python",
   "pygments_lexer": "ipython3",
   "version": "3.8.12"
  }
 },
 "nbformat": 4,
 "nbformat_minor": 5
}
