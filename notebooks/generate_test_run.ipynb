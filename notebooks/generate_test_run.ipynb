{
 "cells": [
  {
   "cell_type": "code",
   "execution_count": 1,
   "id": "8e5670c5",
   "metadata": {},
   "outputs": [],
   "source": [
    "import os\n",
    "import yaml\n",
    "import json\n",
    "import pandas as pd\n",
    "from pathlib import Path"
   ]
  },
  {
   "cell_type": "code",
   "execution_count": null,
   "id": "feecbb15",
   "metadata": {},
   "outputs": [],
   "source": []
  },
  {
   "cell_type": "code",
   "execution_count": null,
   "id": "13e14405",
   "metadata": {},
   "outputs": [],
   "source": []
  },
  {
   "cell_type": "code",
   "execution_count": 4,
   "id": "dd93636d",
   "metadata": {},
   "outputs": [
    {
     "data": {
      "text/plain": [
       "{'id': 'C3L-00677',\n",
       " 'rna-seq': {'tumor': {'R1': {'filepath': '/data/pecgs/test_sample/C3L-00677/rna-seq/170906_UNC32-K00270_0058_BHLJ7FBBXX_TGACCA_S4_L007_R1_001.fastq.gz'},\n",
       "   'R2': {'filepath': '/data/pecgs/test_sample/C3L-00677/rna-seq/170906_UNC32-K00270_0058_BHLJ7FBBXX_TGACCA_S4_L007_R2_001.fastq.gz'}}},\n",
       " 'wxs': {'normal': {'barcode': 'CPT0071960002',\n",
       "   'filepath': '/data/pecgs/test_sample/C3L-00677/wxs/5cee818c-61e8-4441-bd9a-5c984cde9c6b_gdc_realn.bam'},\n",
       "  'tumor': {'barcode': 'CPT0071100006',\n",
       "   'filepath': '/data/pecgs/test_sample/C3L-00677/wxs/1d6c4f0f-09c4-4472-a19e-30ee7e0ecf64_gdc_realn.bam'}}}"
      ]
     },
     "execution_count": 4,
     "metadata": {},
     "output_type": "execute_result"
    }
   ],
   "source": [
    "m = yaml.safe_load(open('/data/pecgs/test_sample/C3L-00677/summary.yaml'))\n",
    "m"
   ]
  },
  {
   "cell_type": "code",
   "execution_count": 3,
   "id": "66f636e5",
   "metadata": {},
   "outputs": [
    {
     "data": {
      "text/plain": [
       "{'bwts': {'class': 'Directory', 'path': 'a/file/path'},\n",
       " 'cpu': 'a_int',\n",
       " 'filter_database': {'class': 'Directory', 'path': 'a/file/path'},\n",
       " 'fq_1': {'class': 'File', 'path': 'a/file/path'},\n",
       " 'fq_2': {'class': 'File', 'path': 'a/file/path'},\n",
       " 'fusion_annotator_dir': {'class': 'Directory', 'path': 'a/file/path'},\n",
       " 'genome_db': {'class': 'Directory', 'path': 'a/file/path'},\n",
       " 'genome_lib_dir': {'class': 'Directory', 'path': 'a/file/path'},\n",
       " 'integrate_annotations': {'class': 'File', 'path': 'a/file/path'},\n",
       " 'integrate_executable': {'class': 'File', 'path': 'a/file/path'},\n",
       " 'integrate_fasta': {'class': 'File', 'path': 'a/file/path'},\n",
       " 'sample': 'a_string'}"
      ]
     },
     "execution_count": 3,
     "metadata": {},
     "output_type": "execute_result"
    }
   ],
   "source": [
    "template = yaml.safe_load(open('../cwl/template.fusion.yaml'))\n",
    "template"
   ]
  },
  {
   "cell_type": "code",
   "execution_count": 6,
   "id": "8cdcd703",
   "metadata": {},
   "outputs": [
    {
     "data": {
      "text/plain": [
       "{'bwts': {'class': 'Directory',\n",
       "  'path': '/storage1/fs1/dinglab/Active/Projects/estorrs/pecgs_resources/fusion/Integrate_dependencies/bwts'},\n",
       " 'cpu': 1,\n",
       " 'filter_database': {'class': 'Directory',\n",
       "  'path': '/storage1/fs1/dinglab/Active/Projects/estorrs/pecgs_resources/fusion/FilterDatabase'},\n",
       " 'fq_1': {'class': 'File',\n",
       "  'path': '/storage1/fs1/dinglab/Active/Projects/estorrs/pecgs_resources/test_samples/C3L-00677/rna-seq/170906_UNC32-K00270_0058_BHLJ7FBBXX_TGACCA_S4_L007_R1_001.fastq.gz'},\n",
       " 'fq_2': {'class': 'File',\n",
       "  'path': '/storage1/fs1/dinglab/Active/Projects/estorrs/pecgs_resources/test_samples/C3L-00677/rna-seq/170906_UNC32-K00270_0058_BHLJ7FBBXX_TGACCA_S4_L007_R2_001.fastq.gz'},\n",
       " 'fusion_annotator_dir': {'class': 'Directory',\n",
       "  'path': '/storage1/fs1/dinglab/Active/Projects/estorrs/pecgs_resources/fusion/FusionAnnotator'},\n",
       " 'genome_db': {'class': 'Directory',\n",
       "  'path': '/storage1/fs1/dinglab/Active/Projects/estorrs/pecgs_resources/fusion/ericscript_dependencies/ericscript_db_homosapiens_ensembl84'},\n",
       " 'genome_lib_dir': {'class': 'Directory',\n",
       "  'path': '/storage1/fs1/dinglab/Active/Projects/estorrs/pecgs_resources/fusion/STAR-Fusion_dependencies/GRCh38_gencode_v37_CTAT_lib_Mar012021.plug-n-play/ctat_genome_lib_build_dir'},\n",
       " 'integrate_annotations': {'class': 'File',\n",
       "  'path': '/storage1/fs1/dinglab/Active/Projects/estorrs/pecgs_resources/fusion/Integrate_dependencies/annot.ensembl.GRCh38.txt'},\n",
       " 'integrate_executable': {'class': 'File',\n",
       "  'path': '/storage1/fs1/dinglab/Active/Projects/estorrs/pecgs_resources/fusion/INTEGRATE_0_2_6/INTEGRATE-build/bin/Integrate'},\n",
       " 'integrate_fasta': {'class': 'File',\n",
       "  'path': '/storage1/fs1/dinglab/Active/Projects/estorrs/pecgs_resources/fusion/Integrate_dependencies/STAR/hg38.fa'},\n",
       " 'sample': 'C3L-00677'}"
      ]
     },
     "execution_count": 6,
     "metadata": {},
     "output_type": "execute_result"
    }
   ],
   "source": [
    "template = yaml.safe_load(open('/home/estorrs/wombat/tests/data/fusion/C3L-00677_inputs.yaml'))\n",
    "template"
   ]
  },
  {
   "cell_type": "code",
   "execution_count": 8,
   "id": "115807a9",
   "metadata": {},
   "outputs": [
    {
     "data": {
      "text/plain": [
       "'docker run -v /data/pecgs/fusion:/fusion_resources -v /data/pecgs/test_runs/fusion/C3L-00677:/fusion_outputs -it estorrs/pecgs_fusion:0.0.1 /bin/bash'"
      ]
     },
     "execution_count": 8,
     "metadata": {},
     "output_type": "execute_result"
    }
   ],
   "source": [
    "resource_dir = '/data/pecgs/fusion'\n",
    "output_dir = '/data/pecgs/test_runs/fusion/' + m['id']\n",
    "Path(output_dir).mkdir(parents=True, exist_ok=True)\n",
    "pieces = [\n",
    "    'docker', 'run',\n",
    "    '-v', f'{resource_dir}:/fusion_resources',\n",
    "    '-v', f'{output_dir}:/fusion_outputs',\n",
    "    '-it', 'estorrs/pecgs_fusion:0.0.1',\n",
    "    '/bin/bash'\n",
    "]\n",
    "cmd = ' '.join(pieces)\n",
    "cmd"
   ]
  },
  {
   "cell_type": "code",
   "execution_count": 7,
   "id": "6143482c",
   "metadata": {},
   "outputs": [
    {
     "data": {
      "text/plain": [
       "'python /pecgs-fusion/fusion/fusion.py --cpu 16 --filter-database /fusion_resources/FilterDatabase --fusion-annotator-dir /fusion_resources/FusionAnnotator --genome-db /fusion_resources/ericscript_dependencies/ericscript_db_homosapiens_ensembl84 --genome-lib-dir /fusion_resources/STAR-Fusion_dependencies/GRCh38_gencode_v37_CTAT_lib_Mar012021.plug-n-play/ctat_genome_lib_build_dir --integrate-annotations /fusion_resources/Integrate_dependencies/annot.ensembl.GRCh38.txt --bwts /fusion_resources/Integrate_dependencies/bwts --integrate-executable /fusion_resources/INTEGRATE_0_2_6/INTEGRATE-build/bin/Integrate --integrate-fasta /fusion_resources/Integrate_dependencies/STAR/hg38.fa C3L-00677 /data/pecgs/test_sample/C3L-00677/rna-seq/170906_UNC32-K00270_0058_BHLJ7FBBXX_TGACCA_S4_L007_R1_001.fastq.gz /data/pecgs/test_sample/C3L-00677/rna-seq/170906_UNC32-K00270_0058_BHLJ7FBBXX_TGACCA_S4_L007_R2_001.fastq.gz'"
      ]
     },
     "execution_count": 7,
     "metadata": {},
     "output_type": "execute_result"
    }
   ],
   "source": [
    "pieces = [f'python /pecgs-fusion/fusion/fusion.py',\n",
    "         '--cpu', '16',\n",
    "         '--filter-database', '/fusion_resources/FilterDatabase',\n",
    "          '--fusion-annotator-dir', '/fusion_resources/FusionAnnotator',\n",
    "          '--genome-db', '/fusion_resources/ericscript_dependencies/ericscript_db_homosapiens_ensembl84',\n",
    "          '--genome-lib-dir', '/fusion_resources/STAR-Fusion_dependencies/GRCh38_gencode_v37_CTAT_lib_Mar012021.plug-n-play/ctat_genome_lib_build_dir',\n",
    "          '--integrate-annotations', '/fusion_resources/Integrate_dependencies/annot.ensembl.GRCh38.txt',\n",
    "          '--bwts', '/fusion_resources/Integrate_dependencies/bwts',\n",
    "          '--integrate-executable', '/fusion_resources/INTEGRATE_0_2_6/INTEGRATE-build/bin/Integrate',\n",
    "          '--integrate-fasta', '/fusion_resources/Integrate_dependencies/STAR/hg38.fa',\n",
    "          m['id'], m['rna-seq']['tumor']['R1']['filepath'], m['rna-seq']['tumor']['R2']['filepath']\n",
    "         ]\n",
    "cmd = ' '.join(pieces)\n",
    "cmd\n",
    "\n",
    "\n",
    "\n",
    "\n"
   ]
  },
  {
   "cell_type": "code",
   "execution_count": null,
   "id": "b8d828d7",
   "metadata": {},
   "outputs": [],
   "source": []
  }
 ],
 "metadata": {
  "kernelspec": {
   "display_name": "Python 3 (ipykernel)",
   "language": "python",
   "name": "python3"
  },
  "language_info": {
   "codemirror_mode": {
    "name": "ipython",
    "version": 3
   },
   "file_extension": ".py",
   "mimetype": "text/x-python",
   "name": "python",
   "nbconvert_exporter": "python",
   "pygments_lexer": "ipython3",
   "version": "3.8.12"
  }
 },
 "nbformat": 4,
 "nbformat_minor": 5
}
