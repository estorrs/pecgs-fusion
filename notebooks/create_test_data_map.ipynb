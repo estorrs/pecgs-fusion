{
 "cells": [
  {
   "cell_type": "code",
   "execution_count": 1,
   "id": "17b53482",
   "metadata": {},
   "outputs": [],
   "source": [
    "import yaml\n",
    "from pathlib"
   ]
  },
  {
   "cell_type": "code",
   "execution_count": 3,
   "id": "d3a6d94b",
   "metadata": {},
   "outputs": [],
   "source": [
    "m = {\n",
    "    'id': 'C3L-00677',\n",
    "    'wxs': {\n",
    "        'tumor': {\n",
    "            'barcode': 'CPT0071100006',\n",
    "            'filepath': '/data/pecgs/test_sample/C3L-00677/wxs/1d6c4f0f-09c4-4472-a19e-30ee7e0ecf64_gdc_realn.bam'\n",
    "        },\n",
    "        'normal': {\n",
    "            'barcode': 'CPT0071960002',\n",
    "            'filepath': '/data/pecgs/test_sample/C3L-00677/wxs/5cee818c-61e8-4441-bd9a-5c984cde9c6b_gdc_realn.bam'\n",
    "        }\n",
    "    },\n",
    "    'rna-seq': {\n",
    "        'tumor': {\n",
    "            'R1': {\n",
    "                'filepath': '/data/pecgs/test_sample/C3L-00677/rna-seq/170906_UNC32-K00270_0058_BHLJ7FBBXX_TGACCA_S4_L007_R1_001.fastq.gz'\n",
    "            },\n",
    "            'R2': {\n",
    "                'filepath': '/data/pecgs/test_sample/C3L-00677/rna-seq/170906_UNC32-K00270_0058_BHLJ7FBBXX_TGACCA_S4_L007_R2_001.fastq.gz'\n",
    "            },\n",
    "        },\n",
    "    }\n",
    "}"
   ]
  },
  {
   "cell_type": "code",
   "execution_count": 4,
   "id": "196bd3f4",
   "metadata": {},
   "outputs": [],
   "source": [
    "yaml.safe_dump(m, open('/data/pecgs/test_sample/C3L-00677/summary.yaml', 'w'))"
   ]
  },
  {
   "cell_type": "code",
   "execution_count": null,
   "id": "6242bf33",
   "metadata": {},
   "outputs": [],
   "source": []
  },
  {
   "cell_type": "code",
   "execution_count": null,
   "id": "a41937ef",
   "metadata": {},
   "outputs": [],
   "source": []
  }
 ],
 "metadata": {
  "kernelspec": {
   "display_name": "Python 3 (ipykernel)",
   "language": "python",
   "name": "python3"
  },
  "language_info": {
   "codemirror_mode": {
    "name": "ipython",
    "version": 3
   },
   "file_extension": ".py",
   "mimetype": "text/x-python",
   "name": "python",
   "nbconvert_exporter": "python",
   "pygments_lexer": "ipython3",
   "version": "3.8.12"
  }
 },
 "nbformat": 4,
 "nbformat_minor": 5
}
